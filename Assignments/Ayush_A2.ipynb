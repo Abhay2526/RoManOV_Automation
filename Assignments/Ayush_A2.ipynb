{
  "nbformat": 4,
  "nbformat_minor": 0,
  "metadata": {
    "colab": {
      "name": "pawn_classifier",
      "provenance": [],
      "collapsed_sections": []
    },
    "kernelspec": {
      "name": "python3",
      "display_name": "Python 3"
    },
    "accelerator": "GPU"
  },
  "cells": [
    {
      "cell_type": "code",
      "metadata": {
        "id": "HZxCFks_u_2U",
        "colab_type": "code",
        "colab": {}
      },
      "source": [
        "# import necessary libraries\n",
        "import numpy as np\n",
        "import argparse\n",
        "import imutils\n",
        "import cv2\n",
        "import pandas as pd\n",
        "import zipfile\n",
        "from google.colab import files\n",
        "import io\n",
        "import os\n",
        "import zipfile\n",
        "from PIL import ImageDraw,Image,ImageFont\n",
        "from google.colab.patches import cv2_imshow"
      ],
      "execution_count": 69,
      "outputs": []
    },
    {
      "cell_type": "code",
      "metadata": {
        "id": "mvPqYD05vM_v",
        "colab_type": "code",
        "colab": {}
      },
      "source": [
        "zip_file = '/content/pawn_dataset.zip'\n",
        "zip_ref = zipfile.ZipFile(zip_file,'r')\n",
        "zip_ref.extractall('/content')\n",
        "zip_ref.close()"
      ],
      "execution_count": 70,
      "outputs": []
    },
    {
      "cell_type": "code",
      "metadata": {
        "id": "mEpcUZ6P0VkV",
        "colab_type": "code",
        "colab": {}
      },
      "source": [
        "# annotations = pd.read_csv('/content/pawn_dataset.csv')"
      ],
      "execution_count": 71,
      "outputs": []
    },
    {
      "cell_type": "code",
      "metadata": {
        "id": "gXxU1QJ81Vq4",
        "colab_type": "code",
        "colab": {}
      },
      "source": [
        "# annotations.head"
      ],
      "execution_count": 72,
      "outputs": []
    },
    {
      "cell_type": "code",
      "metadata": {
        "id": "Fu7KGcw21dml",
        "colab_type": "code",
        "colab": {}
      },
      "source": [
        "import tensorflow as tf"
      ],
      "execution_count": 73,
      "outputs": []
    },
    {
      "cell_type": "code",
      "metadata": {
        "id": "3i_oD91t38kB",
        "colab_type": "code",
        "colab": {}
      },
      "source": [
        "from tensorflow.keras.models import Sequential\n",
        "from tensorflow.keras.layers import Dense, Conv2D, Flatten, Dropout, MaxPooling2D, BatchNormalization\n",
        "from tensorflow.keras.preprocessing.image import ImageDataGenerator"
      ],
      "execution_count": 74,
      "outputs": []
    },
    {
      "cell_type": "code",
      "metadata": {
        "id": "bgikbOqi3_zv",
        "colab_type": "code",
        "colab": {}
      },
      "source": [
        "chess_data = os.path.join('/content/content/pawn_dataset')\n",
        "data = ImageDataGenerator(validation_split=0.2,rescale=1./255,\n",
        "        rotation_range=40,\n",
        "        width_shift_range=0.2,\n",
        "        height_shift_range=0.2,\n",
        "        shear_range=0.2,\n",
        "        zoom_range=0.2,\n",
        "        horizontal_flip=True,\n",
        "        fill_mode='nearest')\n"
      ],
      "execution_count": 75,
      "outputs": []
    },
    {
      "cell_type": "code",
      "metadata": {
        "id": "TsmGXC0C88wn",
        "colab_type": "code",
        "colab": {}
      },
      "source": [
        "# index = 0\n",
        "# for i, row in annotations.iterrows():\n",
        "#   pic_name = row['Name']\n",
        "#   image = cv2.imread('/content/content/data/pawn_classification_dataset/'+pic_name)\n",
        "#   if(row['Label']==\"pawn\"):\n",
        "#     cv2.imwrite(\"/content/pawn_dataset/pawn/pic{}\".format(str(index)+\".jpg\"),image)\n",
        "#   else:\n",
        "#     cv2.imwrite(\"/content/pawn_dataset/not pawn/pic{}\".format(str(index)+\".jpg\"),image)\n",
        "#   index = index+1"
      ],
      "execution_count": 76,
      "outputs": []
    },
    {
      "cell_type": "code",
      "metadata": {
        "id": "Hs1WUP8T59hD",
        "colab_type": "code",
        "colab": {
          "base_uri": "https://localhost:8080/",
          "height": 52
        },
        "outputId": "69032e4a-ff92-4a75-8711-2e0406b6d82e"
      },
      "source": [
        "pawn_train_dir = data.flow_from_directory(chess_data,subset='training',batch_size = 20,class_mode='binary',target_size=(150,150))\n",
        "pawn_valid_dir = data.flow_from_directory(chess_data,subset='validation',batch_size = 20,class_mode='binary',target_size=(150,150))"
      ],
      "execution_count": 77,
      "outputs": [
        {
          "output_type": "stream",
          "text": [
            "Found 2297 images belonging to 2 classes.\n",
            "Found 573 images belonging to 2 classes.\n"
          ],
          "name": "stdout"
        }
      ]
    },
    {
      "cell_type": "code",
      "metadata": {
        "id": "cEP76u93H_XZ",
        "colab_type": "code",
        "colab": {
          "base_uri": "https://localhost:8080/",
          "height": 34
        },
        "outputId": "505e8ba2-0daf-443e-f3b7-266784ba918d"
      },
      "source": [
        "x,y=pawn_train_dir.next()\n",
        "x.shape"
      ],
      "execution_count": 78,
      "outputs": [
        {
          "output_type": "execute_result",
          "data": {
            "text/plain": [
              "(20, 150, 150, 3)"
            ]
          },
          "metadata": {
            "tags": []
          },
          "execution_count": 78
        }
      ]
    },
    {
      "cell_type": "code",
      "metadata": {
        "id": "2Evobpzj_xvF",
        "colab_type": "code",
        "colab": {}
      },
      "source": [
        "# from tensorflow.keras.regularizers import l2\n",
        "from tensorflow.keras.layers import Activation\n",
        "# model = tf.keras.models.Sequential([\n",
        "#     tf.keras.layers.Conv2D(16,(3,3),activation='relu',input_shape = (224,224,3),padding='same'),\n",
        "#     tf.keras.layers.BatchNormalization(),\n",
        "#     tf.keras.layers.MaxPool2D(2,2),\n",
        "\n",
        "#     tf.keras.layers.Conv2D(32,(3,3),activation='relu',padding='same'),\n",
        "#     tf.keras.layers.BatchNormalization(),\n",
        "#     tf.keras.layers.MaxPool2D(2,2),\n",
        "\n",
        "#     tf.keras.layers.Conv2D(64,(3,3),activation='relu',padding='same'),\n",
        "#     tf.keras.layers.BatchNormalization(),\n",
        "#     tf.keras.layers.GlobalMaxPool2D(),\n",
        "\n",
        "    \n",
        "#     # tf.keras.layers.Flatten(),\n",
        "#     tf.keras.layers.Dense(1024,activation='relu'),\n",
        "#     # tf.keras.layers.Dropout(0.5),\n",
        "#     # tf.keras.layers.Dense(512,activation='relu'),\n",
        "#     # tf.keras.layers.Dense(256,activation='relu'),\n",
        "#     tf.keras.layers.Dense(1,activation='sigmoid')\n",
        "# ]\n",
        "# )\n",
        "# model.summary()"
      ],
      "execution_count": 79,
      "outputs": []
    },
    {
      "cell_type": "code",
      "metadata": {
        "id": "ggHVXOojflr0",
        "colab_type": "code",
        "colab": {}
      },
      "source": [
        "model = Sequential()\n",
        "model.add(Conv2D(32, (3, 3), input_shape=(150, 150,3),padding='same'))\n",
        "model.add(Activation('relu'))\n",
        "model.add(BatchNormalization())\n",
        "model.add(MaxPooling2D(pool_size=(2, 2)))\n",
        "\n",
        "model.add(Conv2D(32, (3, 3),padding='same'))\n",
        "model.add(Activation('relu'))\n",
        "model.add(BatchNormalization())\n",
        "model.add(MaxPooling2D(pool_size=(2, 2)))\n",
        "\n",
        "model.add(Conv2D(64, (3, 3),padding='same'))\n",
        "model.add(Activation('relu'))\n",
        "model.add(BatchNormalization())\n",
        "model.add(MaxPooling2D(pool_size=(2, 2)))\n",
        "\n",
        "model.add(Flatten())  # this converts our 3D feature maps to 1D feature vectors\n",
        "\n",
        "model.add(Dense(64))\n",
        "model.add(Activation('relu'))\n",
        "model.add(Dropout(0.5))\n",
        "model.add(Dense(1))\n",
        "model.add(Activation('sigmoid'))\n"
      ],
      "execution_count": 80,
      "outputs": []
    },
    {
      "cell_type": "code",
      "metadata": {
        "id": "qwP3baz0ElHK",
        "colab_type": "code",
        "colab": {}
      },
      "source": [
        "from tensorflow.keras.optimizers import RMSprop, SGD, Adam\n",
        "# model.compile(optimizer=RMSprop(lr=0.01),loss='binary_crossentropy',metrics=['acc'])\n",
        "model.compile(optimizer=SGD(lr=0.01),loss='binary_crossentropy',metrics=['acc'])"
      ],
      "execution_count": 81,
      "outputs": []
    },
    {
      "cell_type": "code",
      "metadata": {
        "id": "toVf7n9EFcPi",
        "colab_type": "code",
        "colab": {
          "base_uri": "https://localhost:8080/",
          "height": 369
        },
        "outputId": "ee33ecc5-8740-4795-8bb0-fbd0d7ddf1f4"
      },
      "source": [
        "history = model.fit_generator(epochs=10,generator=pawn_train_dir,validation_data=pawn_valid_dir,verbose=1)"
      ],
      "execution_count": 82,
      "outputs": [
        {
          "output_type": "stream",
          "text": [
            "Epoch 1/10\n",
            "115/115 [==============================] - 15s 130ms/step - loss: 0.7790 - acc: 0.5903 - val_loss: 1.8925 - val_acc: 0.5480\n",
            "Epoch 2/10\n",
            "115/115 [==============================] - 15s 129ms/step - loss: 0.5689 - acc: 0.6922 - val_loss: 2.9377 - val_acc: 0.5480\n",
            "Epoch 3/10\n",
            "115/115 [==============================] - 15s 130ms/step - loss: 0.5093 - acc: 0.7462 - val_loss: 1.3878 - val_acc: 0.5480\n",
            "Epoch 4/10\n",
            "115/115 [==============================] - 15s 129ms/step - loss: 0.4550 - acc: 0.7819 - val_loss: 0.5307 - val_acc: 0.7243\n",
            "Epoch 5/10\n",
            "115/115 [==============================] - 15s 128ms/step - loss: 0.4344 - acc: 0.7997 - val_loss: 0.4527 - val_acc: 0.7714\n",
            "Epoch 6/10\n",
            "115/115 [==============================] - 15s 128ms/step - loss: 0.3866 - acc: 0.8293 - val_loss: 0.4049 - val_acc: 0.8063\n",
            "Epoch 7/10\n",
            "115/115 [==============================] - 15s 129ms/step - loss: 0.3713 - acc: 0.8341 - val_loss: 0.3689 - val_acc: 0.8394\n",
            "Epoch 8/10\n",
            "115/115 [==============================] - 15s 128ms/step - loss: 0.3488 - acc: 0.8537 - val_loss: 0.5500 - val_acc: 0.7417\n",
            "Epoch 9/10\n",
            "115/115 [==============================] - 15s 127ms/step - loss: 0.3266 - acc: 0.8585 - val_loss: 0.2881 - val_acc: 0.8674\n",
            "Epoch 10/10\n",
            "115/115 [==============================] - 15s 128ms/step - loss: 0.3116 - acc: 0.8646 - val_loss: 1.0302 - val_acc: 0.6876\n"
          ],
          "name": "stdout"
        }
      ]
    },
    {
      "cell_type": "code",
      "metadata": {
        "id": "ZWFhO-jBF-F0",
        "colab_type": "code",
        "colab": {}
      },
      "source": [
        "# from matplotlib import pyplot as plt\n",
        "# plt.imshow(history['val_loss'])"
      ],
      "execution_count": 86,
      "outputs": []
    },
    {
      "cell_type": "code",
      "metadata": {
        "id": "i-k8Rp-V9Mp4",
        "colab_type": "code",
        "colab": {}
      },
      "source": [
        ""
      ],
      "execution_count": null,
      "outputs": []
    }
  ]
}